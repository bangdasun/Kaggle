{
 "cells": [
  {
   "cell_type": "markdown",
   "metadata": {},
   "source": [
    "### Convolutional Neural Network Example Workflow (Keras)\n",
    "\n",
    "This is an example of applying cnn model building based on `keras`. The data is from [kaggle MNIST Digit Recognizer Competition](https://www.kaggle.com/c/digit-recognizer)"
   ]
  },
  {
   "cell_type": "markdown",
   "metadata": {},
   "source": [
    "#### 1. Preparation\n",
    "\n",
    "Read data, preprocessing data (scale and normalize data, reshape data), set model parameters."
   ]
  },
  {
   "cell_type": "code",
   "execution_count": 1,
   "metadata": {
    "collapsed": true
   },
   "outputs": [],
   "source": [
    "import numpy as np\n",
    "import pandas as pd"
   ]
  },
  {
   "cell_type": "code",
   "execution_count": 2,
   "metadata": {
    "collapsed": true
   },
   "outputs": [],
   "source": [
    "# read data\n",
    "train = pd.read_csv('train.csv')\n",
    "test = pd.read_csv('test.csv')"
   ]
  },
  {
   "cell_type": "code",
   "execution_count": 3,
   "metadata": {},
   "outputs": [
    {
     "data": {
      "text/html": [
       "<div>\n",
       "<style>\n",
       "    .dataframe thead tr:only-child th {\n",
       "        text-align: right;\n",
       "    }\n",
       "\n",
       "    .dataframe thead th {\n",
       "        text-align: left;\n",
       "    }\n",
       "\n",
       "    .dataframe tbody tr th {\n",
       "        vertical-align: top;\n",
       "    }\n",
       "</style>\n",
       "<table border=\"1\" class=\"dataframe\">\n",
       "  <thead>\n",
       "    <tr style=\"text-align: right;\">\n",
       "      <th></th>\n",
       "      <th>label</th>\n",
       "      <th>pixel0</th>\n",
       "      <th>pixel1</th>\n",
       "      <th>pixel2</th>\n",
       "      <th>pixel3</th>\n",
       "      <th>pixel4</th>\n",
       "      <th>pixel5</th>\n",
       "      <th>pixel6</th>\n",
       "      <th>pixel7</th>\n",
       "      <th>pixel8</th>\n",
       "      <th>...</th>\n",
       "      <th>pixel774</th>\n",
       "      <th>pixel775</th>\n",
       "      <th>pixel776</th>\n",
       "      <th>pixel777</th>\n",
       "      <th>pixel778</th>\n",
       "      <th>pixel779</th>\n",
       "      <th>pixel780</th>\n",
       "      <th>pixel781</th>\n",
       "      <th>pixel782</th>\n",
       "      <th>pixel783</th>\n",
       "    </tr>\n",
       "  </thead>\n",
       "  <tbody>\n",
       "    <tr>\n",
       "      <th>0</th>\n",
       "      <td>1</td>\n",
       "      <td>0</td>\n",
       "      <td>0</td>\n",
       "      <td>0</td>\n",
       "      <td>0</td>\n",
       "      <td>0</td>\n",
       "      <td>0</td>\n",
       "      <td>0</td>\n",
       "      <td>0</td>\n",
       "      <td>0</td>\n",
       "      <td>...</td>\n",
       "      <td>0</td>\n",
       "      <td>0</td>\n",
       "      <td>0</td>\n",
       "      <td>0</td>\n",
       "      <td>0</td>\n",
       "      <td>0</td>\n",
       "      <td>0</td>\n",
       "      <td>0</td>\n",
       "      <td>0</td>\n",
       "      <td>0</td>\n",
       "    </tr>\n",
       "    <tr>\n",
       "      <th>1</th>\n",
       "      <td>0</td>\n",
       "      <td>0</td>\n",
       "      <td>0</td>\n",
       "      <td>0</td>\n",
       "      <td>0</td>\n",
       "      <td>0</td>\n",
       "      <td>0</td>\n",
       "      <td>0</td>\n",
       "      <td>0</td>\n",
       "      <td>0</td>\n",
       "      <td>...</td>\n",
       "      <td>0</td>\n",
       "      <td>0</td>\n",
       "      <td>0</td>\n",
       "      <td>0</td>\n",
       "      <td>0</td>\n",
       "      <td>0</td>\n",
       "      <td>0</td>\n",
       "      <td>0</td>\n",
       "      <td>0</td>\n",
       "      <td>0</td>\n",
       "    </tr>\n",
       "    <tr>\n",
       "      <th>2</th>\n",
       "      <td>1</td>\n",
       "      <td>0</td>\n",
       "      <td>0</td>\n",
       "      <td>0</td>\n",
       "      <td>0</td>\n",
       "      <td>0</td>\n",
       "      <td>0</td>\n",
       "      <td>0</td>\n",
       "      <td>0</td>\n",
       "      <td>0</td>\n",
       "      <td>...</td>\n",
       "      <td>0</td>\n",
       "      <td>0</td>\n",
       "      <td>0</td>\n",
       "      <td>0</td>\n",
       "      <td>0</td>\n",
       "      <td>0</td>\n",
       "      <td>0</td>\n",
       "      <td>0</td>\n",
       "      <td>0</td>\n",
       "      <td>0</td>\n",
       "    </tr>\n",
       "  </tbody>\n",
       "</table>\n",
       "<p>3 rows × 785 columns</p>\n",
       "</div>"
      ],
      "text/plain": [
       "   label  pixel0  pixel1  pixel2  pixel3  pixel4  pixel5  pixel6  pixel7  \\\n",
       "0      1       0       0       0       0       0       0       0       0   \n",
       "1      0       0       0       0       0       0       0       0       0   \n",
       "2      1       0       0       0       0       0       0       0       0   \n",
       "\n",
       "   pixel8    ...     pixel774  pixel775  pixel776  pixel777  pixel778  \\\n",
       "0       0    ...            0         0         0         0         0   \n",
       "1       0    ...            0         0         0         0         0   \n",
       "2       0    ...            0         0         0         0         0   \n",
       "\n",
       "   pixel779  pixel780  pixel781  pixel782  pixel783  \n",
       "0         0         0         0         0         0  \n",
       "1         0         0         0         0         0  \n",
       "2         0         0         0         0         0  \n",
       "\n",
       "[3 rows x 785 columns]"
      ]
     },
     "execution_count": 3,
     "metadata": {},
     "output_type": "execute_result"
    }
   ],
   "source": [
    "# check data\n",
    "train.head(3)"
   ]
  },
  {
   "cell_type": "code",
   "execution_count": 4,
   "metadata": {},
   "outputs": [
    {
     "data": {
      "text/html": [
       "<div>\n",
       "<style>\n",
       "    .dataframe thead tr:only-child th {\n",
       "        text-align: right;\n",
       "    }\n",
       "\n",
       "    .dataframe thead th {\n",
       "        text-align: left;\n",
       "    }\n",
       "\n",
       "    .dataframe tbody tr th {\n",
       "        vertical-align: top;\n",
       "    }\n",
       "</style>\n",
       "<table border=\"1\" class=\"dataframe\">\n",
       "  <thead>\n",
       "    <tr style=\"text-align: right;\">\n",
       "      <th></th>\n",
       "      <th>pixel0</th>\n",
       "      <th>pixel1</th>\n",
       "      <th>pixel2</th>\n",
       "      <th>pixel3</th>\n",
       "      <th>pixel4</th>\n",
       "      <th>pixel5</th>\n",
       "      <th>pixel6</th>\n",
       "      <th>pixel7</th>\n",
       "      <th>pixel8</th>\n",
       "      <th>pixel9</th>\n",
       "      <th>...</th>\n",
       "      <th>pixel774</th>\n",
       "      <th>pixel775</th>\n",
       "      <th>pixel776</th>\n",
       "      <th>pixel777</th>\n",
       "      <th>pixel778</th>\n",
       "      <th>pixel779</th>\n",
       "      <th>pixel780</th>\n",
       "      <th>pixel781</th>\n",
       "      <th>pixel782</th>\n",
       "      <th>pixel783</th>\n",
       "    </tr>\n",
       "  </thead>\n",
       "  <tbody>\n",
       "    <tr>\n",
       "      <th>0</th>\n",
       "      <td>0</td>\n",
       "      <td>0</td>\n",
       "      <td>0</td>\n",
       "      <td>0</td>\n",
       "      <td>0</td>\n",
       "      <td>0</td>\n",
       "      <td>0</td>\n",
       "      <td>0</td>\n",
       "      <td>0</td>\n",
       "      <td>0</td>\n",
       "      <td>...</td>\n",
       "      <td>0</td>\n",
       "      <td>0</td>\n",
       "      <td>0</td>\n",
       "      <td>0</td>\n",
       "      <td>0</td>\n",
       "      <td>0</td>\n",
       "      <td>0</td>\n",
       "      <td>0</td>\n",
       "      <td>0</td>\n",
       "      <td>0</td>\n",
       "    </tr>\n",
       "    <tr>\n",
       "      <th>1</th>\n",
       "      <td>0</td>\n",
       "      <td>0</td>\n",
       "      <td>0</td>\n",
       "      <td>0</td>\n",
       "      <td>0</td>\n",
       "      <td>0</td>\n",
       "      <td>0</td>\n",
       "      <td>0</td>\n",
       "      <td>0</td>\n",
       "      <td>0</td>\n",
       "      <td>...</td>\n",
       "      <td>0</td>\n",
       "      <td>0</td>\n",
       "      <td>0</td>\n",
       "      <td>0</td>\n",
       "      <td>0</td>\n",
       "      <td>0</td>\n",
       "      <td>0</td>\n",
       "      <td>0</td>\n",
       "      <td>0</td>\n",
       "      <td>0</td>\n",
       "    </tr>\n",
       "    <tr>\n",
       "      <th>2</th>\n",
       "      <td>0</td>\n",
       "      <td>0</td>\n",
       "      <td>0</td>\n",
       "      <td>0</td>\n",
       "      <td>0</td>\n",
       "      <td>0</td>\n",
       "      <td>0</td>\n",
       "      <td>0</td>\n",
       "      <td>0</td>\n",
       "      <td>0</td>\n",
       "      <td>...</td>\n",
       "      <td>0</td>\n",
       "      <td>0</td>\n",
       "      <td>0</td>\n",
       "      <td>0</td>\n",
       "      <td>0</td>\n",
       "      <td>0</td>\n",
       "      <td>0</td>\n",
       "      <td>0</td>\n",
       "      <td>0</td>\n",
       "      <td>0</td>\n",
       "    </tr>\n",
       "  </tbody>\n",
       "</table>\n",
       "<p>3 rows × 784 columns</p>\n",
       "</div>"
      ],
      "text/plain": [
       "   pixel0  pixel1  pixel2  pixel3  pixel4  pixel5  pixel6  pixel7  pixel8  \\\n",
       "0       0       0       0       0       0       0       0       0       0   \n",
       "1       0       0       0       0       0       0       0       0       0   \n",
       "2       0       0       0       0       0       0       0       0       0   \n",
       "\n",
       "   pixel9    ...     pixel774  pixel775  pixel776  pixel777  pixel778  \\\n",
       "0       0    ...            0         0         0         0         0   \n",
       "1       0    ...            0         0         0         0         0   \n",
       "2       0    ...            0         0         0         0         0   \n",
       "\n",
       "   pixel779  pixel780  pixel781  pixel782  pixel783  \n",
       "0         0         0         0         0         0  \n",
       "1         0         0         0         0         0  \n",
       "2         0         0         0         0         0  \n",
       "\n",
       "[3 rows x 784 columns]"
      ]
     },
     "execution_count": 4,
     "metadata": {},
     "output_type": "execute_result"
    }
   ],
   "source": [
    "test.head(3)"
   ]
  },
  {
   "cell_type": "code",
   "execution_count": 5,
   "metadata": {},
   "outputs": [
    {
     "data": {
      "text/plain": [
       "((42000, 785), (28000, 784))"
      ]
     },
     "execution_count": 5,
     "metadata": {},
     "output_type": "execute_result"
    }
   ],
   "source": [
    "train.shape, test.shape"
   ]
  },
  {
   "cell_type": "code",
   "execution_count": 6,
   "metadata": {},
   "outputs": [
    {
     "data": {
      "text/plain": [
       "((39900, 784), (2100, 784))"
      ]
     },
     "execution_count": 6,
     "metadata": {},
     "output_type": "execute_result"
    }
   ],
   "source": [
    "# split into training and validation set\n",
    "from sklearn.model_selection import train_test_split\n",
    "X_train, X_val, y_train, y_val = train_test_split(train.iloc[:, 1:].values, train.label.values, test_size=.05, random_state=218)\n",
    "X_train.shape, X_val.shape"
   ]
  },
  {
   "cell_type": "code",
   "execution_count": 7,
   "metadata": {},
   "outputs": [
    {
     "data": {
      "text/plain": [
       "(28000, 784)"
      ]
     },
     "execution_count": 7,
     "metadata": {},
     "output_type": "execute_result"
    }
   ],
   "source": [
    "X_test = test.values\n",
    "X_test.shape"
   ]
  },
  {
   "cell_type": "code",
   "execution_count": 8,
   "metadata": {},
   "outputs": [
    {
     "name": "stderr",
     "output_type": "stream",
     "text": [
      "Using TensorFlow backend.\n"
     ]
    }
   ],
   "source": [
    "import keras\n",
    "from keras.models import Sequential, Model\n",
    "from keras.layers import Dense, Dropout, Flatten, Input\n",
    "from keras.layers import Conv2D, MaxPooling2D\n",
    "from keras.utils import to_categorical\n",
    "from keras.optimizers import Adam\n",
    "from keras import backend as K"
   ]
  },
  {
   "cell_type": "code",
   "execution_count": 9,
   "metadata": {
    "collapsed": true
   },
   "outputs": [],
   "source": [
    "# setting for CNN \n",
    "batch_size, num_classes, epochs = 128, 10, 20\n",
    "img_rows, img_cols = 28, 28\n",
    "input_shape = (img_rows, img_cols, 1) # not channel_first"
   ]
  },
  {
   "cell_type": "code",
   "execution_count": 10,
   "metadata": {
    "collapsed": true
   },
   "outputs": [],
   "source": [
    "# reshape data into squared size\n",
    "X_train = X_train.reshape(X_train.shape[0], img_rows, img_cols, 1)\n",
    "X_val = X_val.reshape(X_val.shape[0], img_rows, img_cols, 1)\n",
    "X_test = X_test.reshape(X_test.shape[0], img_rows, img_cols, 1)"
   ]
  },
  {
   "cell_type": "code",
   "execution_count": 11,
   "metadata": {},
   "outputs": [],
   "source": [
    "# pre-processing: normalization\n",
    "X_train = X_train.astype('float32')\n",
    "X_val = X_val.astype('float32')\n",
    "X_test = X_test.astype('float32')\n",
    "\n",
    "X_train /= 255\n",
    "X_val /= 255\n",
    "X_test /= 255"
   ]
  },
  {
   "cell_type": "code",
   "execution_count": 12,
   "metadata": {},
   "outputs": [
    {
     "data": {
      "text/plain": [
       "((39900, 10), (2100, 10))"
      ]
     },
     "execution_count": 12,
     "metadata": {},
     "output_type": "execute_result"
    }
   ],
   "source": [
    "# pre-processing: convert target to one-hot vector\n",
    "y_train = to_categorical(y_train, num_classes)\n",
    "y_val = to_categorical(y_val, num_classes)\n",
    "y_train.shape, y_val.shape"
   ]
  },
  {
   "cell_type": "markdown",
   "metadata": {},
   "source": [
    "#### 2. Build model\n",
    "\n",
    "Use the most common way to build a CNN using `keras`: `Sequential` API"
   ]
  },
  {
   "cell_type": "code",
   "execution_count": 13,
   "metadata": {
    "collapsed": true
   },
   "outputs": [],
   "source": [
    "def cnn_model():\n",
    "    '''\n",
    "    Simple CNN model for MNIST digit classification task\n",
    "    conv2d -> conv2d -> maxpooling -> dropout -> flatten -> dense (fully connected) -> dropout -> dense (softmax)\n",
    "    use Sequential(), there are a lot of networks that cannot use Sequential()\n",
    "    '''\n",
    "    model = Sequential()\n",
    "    model.add(Conv2D(32, kernel_size=(3, 3), activation='relu', input_shape=input_shape))\n",
    "    model.add(Conv2D(64, kernel_size=(3, 3), activation='relu'))\n",
    "    model.add(MaxPooling2D(pool_size=(2, 2)))\n",
    "    model.add(Dropout(.25))\n",
    "    model.add(Flatten())\n",
    "    model.add(Dense(128, activation='relu'))\n",
    "    model.add(Dropout(.5))\n",
    "    model.add(Dense(num_classes, activation='softmax'))\n",
    "    \n",
    "    return model"
   ]
  },
  {
   "cell_type": "code",
   "execution_count": 14,
   "metadata": {},
   "outputs": [
    {
     "name": "stdout",
     "output_type": "stream",
     "text": [
      "Train on 39900 samples, validate on 2100 samples\n",
      "Epoch 1/20\n",
      "39900/39900 [==============================] - 129s 3ms/step - loss: 0.2980 - acc: 0.9098 - val_loss: 0.0836 - val_acc: 0.9733\n",
      "Epoch 2/20\n",
      "39900/39900 [==============================] - 126s 3ms/step - loss: 0.1028 - acc: 0.9684 - val_loss: 0.0519 - val_acc: 0.9833\n",
      "Epoch 3/20\n",
      "39900/39900 [==============================] - 127s 3ms/step - loss: 0.0732 - acc: 0.9780 - val_loss: 0.0436 - val_acc: 0.9862\n",
      "Epoch 4/20\n",
      "39900/39900 [==============================] - 131s 3ms/step - loss: 0.0595 - acc: 0.9818 - val_loss: 0.0461 - val_acc: 0.9838\n",
      "Epoch 5/20\n",
      "39900/39900 [==============================] - 130s 3ms/step - loss: 0.0516 - acc: 0.9842 - val_loss: 0.0328 - val_acc: 0.9871\n",
      "Epoch 6/20\n",
      "39900/39900 [==============================] - 129s 3ms/step - loss: 0.0433 - acc: 0.9866 - val_loss: 0.0354 - val_acc: 0.9857\n",
      "Epoch 7/20\n",
      "39900/39900 [==============================] - 125s 3ms/step - loss: 0.0365 - acc: 0.9881 - val_loss: 0.0320 - val_acc: 0.9900\n",
      "Epoch 8/20\n",
      "39900/39900 [==============================] - 127s 3ms/step - loss: 0.0348 - acc: 0.9888 - val_loss: 0.0347 - val_acc: 0.9876\n",
      "Epoch 9/20\n",
      "39900/39900 [==============================] - 148s 4ms/step - loss: 0.0299 - acc: 0.9904 - val_loss: 0.0363 - val_acc: 0.9886\n",
      "Epoch 10/20\n",
      "39900/39900 [==============================] - 129s 3ms/step - loss: 0.0304 - acc: 0.9906 - val_loss: 0.0306 - val_acc: 0.9900\n",
      "Epoch 11/20\n",
      "39900/39900 [==============================] - 126s 3ms/step - loss: 0.0251 - acc: 0.9917 - val_loss: 0.0332 - val_acc: 0.9910\n",
      "Epoch 12/20\n",
      "39900/39900 [==============================] - 126s 3ms/step - loss: 0.0256 - acc: 0.9914 - val_loss: 0.0346 - val_acc: 0.9900\n",
      "Epoch 13/20\n",
      "39900/39900 [==============================] - 126s 3ms/step - loss: 0.0215 - acc: 0.9928 - val_loss: 0.0324 - val_acc: 0.9890\n",
      "Epoch 14/20\n",
      "39900/39900 [==============================] - 128s 3ms/step - loss: 0.0207 - acc: 0.9929 - val_loss: 0.0359 - val_acc: 0.9905\n",
      "Epoch 15/20\n",
      "39900/39900 [==============================] - 126s 3ms/step - loss: 0.0195 - acc: 0.9935 - val_loss: 0.0345 - val_acc: 0.9881\n",
      "Epoch 16/20\n",
      "39900/39900 [==============================] - 124s 3ms/step - loss: 0.0190 - acc: 0.9936 - val_loss: 0.0314 - val_acc: 0.9919\n",
      "Epoch 17/20\n",
      "39900/39900 [==============================] - 126s 3ms/step - loss: 0.0178 - acc: 0.9939 - val_loss: 0.0405 - val_acc: 0.9886\n",
      "Epoch 18/20\n",
      "39900/39900 [==============================] - 160s 4ms/step - loss: 0.0170 - acc: 0.9943 - val_loss: 0.0335 - val_acc: 0.9895\n",
      "Epoch 19/20\n",
      "39900/39900 [==============================] - 159s 4ms/step - loss: 0.0186 - acc: 0.9936 - val_loss: 0.0313 - val_acc: 0.9886\n",
      "Epoch 20/20\n",
      "39900/39900 [==============================] - 160s 4ms/step - loss: 0.0132 - acc: 0.9956 - val_loss: 0.0319 - val_acc: 0.9886\n"
     ]
    },
    {
     "data": {
      "text/plain": [
       "<keras.callbacks.History at 0x4aa9e780>"
      ]
     },
     "execution_count": 14,
     "metadata": {},
     "output_type": "execute_result"
    }
   ],
   "source": [
    "model = cnn_model()\n",
    "model.compile(loss='categorical_crossentropy', optimizer='adam', metrics=['accuracy'])\n",
    "model.fit(X_train, y_train, batch_size=batch_size, epochs=epochs,verbose=1, validation_data=(X_val, y_val))"
   ]
  },
  {
   "cell_type": "code",
   "execution_count": 15,
   "metadata": {},
   "outputs": [
    {
     "name": "stdout",
     "output_type": "stream",
     "text": [
      "Test loss: 0.0318565379559\n",
      "Test accuracy: 0.988571428571\n"
     ]
    }
   ],
   "source": [
    "score = model.evaluate(X_val, y_val, verbose=0)\n",
    "print('Test loss:', score[0])\n",
    "print('Test accuracy:', score[1])"
   ]
  },
  {
   "cell_type": "code",
   "execution_count": 16,
   "metadata": {},
   "outputs": [],
   "source": [
    "# probabilities\n",
    "pred = model.predict(X_test)\n",
    "pred_label = pred.argmax(axis=-1)"
   ]
  },
  {
   "cell_type": "code",
   "execution_count": 17,
   "metadata": {},
   "outputs": [],
   "source": [
    "# submission\n",
    "submission = pd.DataFrame({'ImageId': np.arange(1, test.shape[0] + 1), \n",
    "                           'Label': pred_label})\n",
    "submission.to_csv('submission_simple_cnn.csv', index=False)"
   ]
  },
  {
   "cell_type": "code",
   "execution_count": 18,
   "metadata": {
    "collapsed": true
   },
   "outputs": [],
   "source": [
    "def lenet():\n",
    "    '''\n",
    "    LeNet\n",
    "    conv2d -> maxpooling -> conv2d -> maxpooling -> dense -> dropout -> dense -> dropout -> dense (softmax)\n",
    "    '''\n",
    "    model = Sequential()\n",
    "    model.add(Conv2D(filters=12, kernel_size=(5, 5), activation='relu', input_shape=input_shape))\n",
    "    model.add(MaxPooling2D(pool_size=(2, 2)))\n",
    "    model.add(Conv2D(filters=25, kernel_size=(5, 5), activation='relu'))\n",
    "    model.add(MaxPooling2D(pool_size=(2, 2)))\n",
    "    model.add(Flatten())\n",
    "    model.add(Dense(180, activation='relu'))\n",
    "    model.add(Dropout(.5))\n",
    "    model.add(Dense(100, activation='relu'))\n",
    "    model.add(Dropout(.5))\n",
    "    model.add(Dense(num_classes, activation='softmax'))\n",
    "    \n",
    "    return model"
   ]
  },
  {
   "cell_type": "code",
   "execution_count": 19,
   "metadata": {
    "scrolled": false
   },
   "outputs": [
    {
     "name": "stdout",
     "output_type": "stream",
     "text": [
      "Train on 39900 samples, validate on 2100 samples\n",
      "Epoch 1/70\n",
      "39900/39900 [==============================] - 21s 522us/step - loss: 0.6180 - acc: 0.8004 - val_loss: 0.1181 - val_acc: 0.9610\n",
      "Epoch 2/70\n",
      "39900/39900 [==============================] - 20s 495us/step - loss: 0.1748 - acc: 0.9514 - val_loss: 0.0744 - val_acc: 0.9762\n",
      "Epoch 3/70\n",
      "39900/39900 [==============================] - 20s 496us/step - loss: 0.1234 - acc: 0.9655 - val_loss: 0.0614 - val_acc: 0.9810\n",
      "Epoch 4/70\n",
      "39900/39900 [==============================] - 20s 496us/step - loss: 0.0982 - acc: 0.9735 - val_loss: 0.0482 - val_acc: 0.9843\n",
      "Epoch 5/70\n",
      "39900/39900 [==============================] - 20s 494us/step - loss: 0.0839 - acc: 0.9769 - val_loss: 0.0452 - val_acc: 0.9862\n",
      "Epoch 6/70\n",
      "39900/39900 [==============================] - 20s 495us/step - loss: 0.0720 - acc: 0.9817 - val_loss: 0.0425 - val_acc: 0.9852\n",
      "Epoch 7/70\n",
      "39900/39900 [==============================] - 20s 496us/step - loss: 0.0630 - acc: 0.9823 - val_loss: 0.0404 - val_acc: 0.9881\n",
      "Epoch 8/70\n",
      "39900/39900 [==============================] - 21s 515us/step - loss: 0.0558 - acc: 0.9844 - val_loss: 0.0398 - val_acc: 0.9881\n",
      "Epoch 9/70\n",
      "39900/39900 [==============================] - 20s 507us/step - loss: 0.0539 - acc: 0.9850 - val_loss: 0.0414 - val_acc: 0.9876\n",
      "Epoch 10/70\n",
      "39900/39900 [==============================] - 20s 494us/step - loss: 0.0449 - acc: 0.9878 - val_loss: 0.0389 - val_acc: 0.9886\n",
      "Epoch 11/70\n",
      "39900/39900 [==============================] - 20s 494us/step - loss: 0.0419 - acc: 0.9885 - val_loss: 0.0370 - val_acc: 0.9881\n",
      "Epoch 12/70\n",
      "39900/39900 [==============================] - 20s 496us/step - loss: 0.0406 - acc: 0.9887 - val_loss: 0.0433 - val_acc: 0.9881\n",
      "Epoch 13/70\n",
      "39900/39900 [==============================] - 20s 494us/step - loss: 0.0369 - acc: 0.9892 - val_loss: 0.0384 - val_acc: 0.9867\n",
      "Epoch 14/70\n",
      "39900/39900 [==============================] - 20s 494us/step - loss: 0.0359 - acc: 0.9898 - val_loss: 0.0370 - val_acc: 0.9890\n",
      "Epoch 15/70\n",
      "39900/39900 [==============================] - 20s 495us/step - loss: 0.0295 - acc: 0.9911 - val_loss: 0.0349 - val_acc: 0.9895\n",
      "Epoch 16/70\n",
      "39900/39900 [==============================] - 20s 494us/step - loss: 0.0293 - acc: 0.9914 - val_loss: 0.0368 - val_acc: 0.9895\n",
      "Epoch 17/70\n",
      "39900/39900 [==============================] - 20s 494us/step - loss: 0.0285 - acc: 0.9915 - val_loss: 0.0342 - val_acc: 0.9900\n",
      "Epoch 18/70\n",
      "39900/39900 [==============================] - 20s 495us/step - loss: 0.0265 - acc: 0.9919 - val_loss: 0.0346 - val_acc: 0.9886\n",
      "Epoch 19/70\n",
      "39900/39900 [==============================] - 20s 505us/step - loss: 0.0248 - acc: 0.9930 - val_loss: 0.0480 - val_acc: 0.9843\n",
      "Epoch 20/70\n",
      "39900/39900 [==============================] - 22s 547us/step - loss: 0.0260 - acc: 0.9924 - val_loss: 0.0393 - val_acc: 0.9867\n",
      "Epoch 21/70\n",
      "39900/39900 [==============================] - 22s 539us/step - loss: 0.0226 - acc: 0.9938 - val_loss: 0.0451 - val_acc: 0.9871\n",
      "Epoch 22/70\n",
      "39900/39900 [==============================] - 21s 538us/step - loss: 0.0201 - acc: 0.9943 - val_loss: 0.0554 - val_acc: 0.9848\n",
      "Epoch 23/70\n",
      "39900/39900 [==============================] - 21s 536us/step - loss: 0.0243 - acc: 0.9934 - val_loss: 0.0421 - val_acc: 0.9886\n",
      "Epoch 24/70\n",
      "39900/39900 [==============================] - 22s 548us/step - loss: 0.0219 - acc: 0.9937 - val_loss: 0.0524 - val_acc: 0.9852\n",
      "Epoch 25/70\n",
      "39900/39900 [==============================] - 21s 537us/step - loss: 0.0187 - acc: 0.9947 - val_loss: 0.0353 - val_acc: 0.9871\n",
      "Epoch 26/70\n",
      "39900/39900 [==============================] - 20s 507us/step - loss: 0.0166 - acc: 0.9954 - val_loss: 0.0428 - val_acc: 0.9862\n",
      "Epoch 27/70\n",
      "39900/39900 [==============================] - 21s 523us/step - loss: 0.0184 - acc: 0.9943 - val_loss: 0.0533 - val_acc: 0.9876\n",
      "Epoch 28/70\n",
      "39900/39900 [==============================] - 22s 543us/step - loss: 0.0178 - acc: 0.9945 - val_loss: 0.0534 - val_acc: 0.9886\n",
      "Epoch 29/70\n",
      "39900/39900 [==============================] - 22s 542us/step - loss: 0.0158 - acc: 0.9951 - val_loss: 0.0386 - val_acc: 0.9905\n",
      "Epoch 30/70\n",
      "39900/39900 [==============================] - 22s 540us/step - loss: 0.0166 - acc: 0.9951 - val_loss: 0.0437 - val_acc: 0.9890\n",
      "Epoch 31/70\n",
      "39900/39900 [==============================] - 22s 540us/step - loss: 0.0171 - acc: 0.9949 - val_loss: 0.0402 - val_acc: 0.9895\n",
      "Epoch 32/70\n",
      "39900/39900 [==============================] - 21s 536us/step - loss: 0.0131 - acc: 0.9962 - val_loss: 0.0524 - val_acc: 0.9871\n",
      "Epoch 33/70\n",
      "39900/39900 [==============================] - 20s 499us/step - loss: 0.0159 - acc: 0.9951 - val_loss: 0.0529 - val_acc: 0.9900\n",
      "Epoch 34/70\n",
      "39900/39900 [==============================] - 20s 496us/step - loss: 0.0138 - acc: 0.9961 - val_loss: 0.0442 - val_acc: 0.9890\n",
      "Epoch 35/70\n",
      "39900/39900 [==============================] - 20s 496us/step - loss: 0.0135 - acc: 0.9960 - val_loss: 0.0416 - val_acc: 0.9900\n",
      "Epoch 36/70\n",
      "39900/39900 [==============================] - 20s 495us/step - loss: 0.0135 - acc: 0.9958 - val_loss: 0.0487 - val_acc: 0.9890\n",
      "Epoch 37/70\n",
      "39900/39900 [==============================] - 20s 498us/step - loss: 0.0116 - acc: 0.9966 - val_loss: 0.0491 - val_acc: 0.9886\n",
      "Epoch 38/70\n",
      "39900/39900 [==============================] - 22s 544us/step - loss: 0.0146 - acc: 0.9957 - val_loss: 0.0508 - val_acc: 0.9895\n",
      "Epoch 39/70\n",
      "39900/39900 [==============================] - 22s 540us/step - loss: 0.0133 - acc: 0.9963 - val_loss: 0.0538 - val_acc: 0.9881\n",
      "Epoch 40/70\n",
      "39900/39900 [==============================] - 22s 555us/step - loss: 0.0101 - acc: 0.9968 - val_loss: 0.0576 - val_acc: 0.9895\n",
      "Epoch 41/70\n",
      "39900/39900 [==============================] - 20s 513us/step - loss: 0.0129 - acc: 0.9960 - val_loss: 0.0511 - val_acc: 0.9890\n",
      "Epoch 42/70\n",
      "39900/39900 [==============================] - 20s 496us/step - loss: 0.0108 - acc: 0.9967 - val_loss: 0.0489 - val_acc: 0.9910\n",
      "Epoch 43/70\n",
      "39900/39900 [==============================] - 20s 495us/step - loss: 0.0103 - acc: 0.9969 - val_loss: 0.0581 - val_acc: 0.9881\n",
      "Epoch 44/70\n",
      "39900/39900 [==============================] - 21s 533us/step - loss: 0.0119 - acc: 0.9967 - val_loss: 0.0576 - val_acc: 0.9881\n",
      "Epoch 45/70\n",
      "39900/39900 [==============================] - 22s 541us/step - loss: 0.0106 - acc: 0.9974 - val_loss: 0.0518 - val_acc: 0.9890\n",
      "Epoch 46/70\n",
      "39900/39900 [==============================] - 21s 538us/step - loss: 0.0099 - acc: 0.9971 - val_loss: 0.0561 - val_acc: 0.9876\n",
      "Epoch 47/70\n",
      "39900/39900 [==============================] - 22s 540us/step - loss: 0.0100 - acc: 0.9968 - val_loss: 0.0604 - val_acc: 0.9890\n",
      "Epoch 48/70\n",
      "39900/39900 [==============================] - 22s 540us/step - loss: 0.0115 - acc: 0.9965 - val_loss: 0.0618 - val_acc: 0.9895\n",
      "Epoch 49/70\n",
      "39900/39900 [==============================] - 22s 539us/step - loss: 0.0099 - acc: 0.9969 - val_loss: 0.0453 - val_acc: 0.9914\n",
      "Epoch 50/70\n",
      "39900/39900 [==============================] - 22s 541us/step - loss: 0.0103 - acc: 0.9972 - val_loss: 0.0524 - val_acc: 0.9895\n",
      "Epoch 51/70\n",
      "39900/39900 [==============================] - 21s 532us/step - loss: 0.0101 - acc: 0.9968 - val_loss: 0.0518 - val_acc: 0.9890\n",
      "Epoch 52/70\n",
      "39900/39900 [==============================] - 20s 496us/step - loss: 0.0098 - acc: 0.9972 - val_loss: 0.0573 - val_acc: 0.9890\n",
      "Epoch 53/70\n",
      "39900/39900 [==============================] - 20s 497us/step - loss: 0.0074 - acc: 0.9977 - val_loss: 0.0560 - val_acc: 0.9886\n",
      "Epoch 54/70\n",
      "39900/39900 [==============================] - 21s 535us/step - loss: 0.0113 - acc: 0.9968 - val_loss: 0.0584 - val_acc: 0.9900\n",
      "Epoch 55/70\n",
      "39900/39900 [==============================] - 22s 541us/step - loss: 0.0096 - acc: 0.9970 - val_loss: 0.0546 - val_acc: 0.9886\n",
      "Epoch 56/70\n",
      "39900/39900 [==============================] - 22s 539us/step - loss: 0.0068 - acc: 0.9976 - val_loss: 0.0615 - val_acc: 0.9895\n",
      "Epoch 57/70\n",
      "39900/39900 [==============================] - 22s 539us/step - loss: 0.0085 - acc: 0.9977 - val_loss: 0.0715 - val_acc: 0.9881\n",
      "Epoch 58/70\n",
      "39900/39900 [==============================] - 22s 543us/step - loss: 0.0106 - acc: 0.9969 - val_loss: 0.0622 - val_acc: 0.9886\n",
      "Epoch 59/70\n"
     ]
    },
    {
     "name": "stdout",
     "output_type": "stream",
     "text": [
      "39900/39900 [==============================] - 22s 540us/step - loss: 0.0092 - acc: 0.9972 - val_loss: 0.0605 - val_acc: 0.9886\n",
      "Epoch 60/70\n",
      "39900/39900 [==============================] - 22s 540us/step - loss: 0.0090 - acc: 0.9973 - val_loss: 0.0735 - val_acc: 0.9876\n",
      "Epoch 61/70\n",
      "39900/39900 [==============================] - 22s 541us/step - loss: 0.0101 - acc: 0.9969 - val_loss: 0.0675 - val_acc: 0.9871\n",
      "Epoch 62/70\n",
      "39900/39900 [==============================] - 22s 541us/step - loss: 0.0081 - acc: 0.9979 - val_loss: 0.0601 - val_acc: 0.9876\n",
      "Epoch 63/70\n",
      "39900/39900 [==============================] - 22s 539us/step - loss: 0.0101 - acc: 0.9969 - val_loss: 0.0540 - val_acc: 0.9890\n",
      "Epoch 64/70\n",
      "39900/39900 [==============================] - 22s 553us/step - loss: 0.0094 - acc: 0.9971 - val_loss: 0.0752 - val_acc: 0.9886\n",
      "Epoch 65/70\n",
      "39900/39900 [==============================] - 22s 557us/step - loss: 0.0069 - acc: 0.9979 - val_loss: 0.0681 - val_acc: 0.9890\n",
      "Epoch 66/70\n",
      "39900/39900 [==============================] - 22s 551us/step - loss: 0.0071 - acc: 0.9978 - val_loss: 0.0640 - val_acc: 0.9910\n",
      "Epoch 67/70\n",
      "39900/39900 [==============================] - 22s 551us/step - loss: 0.0068 - acc: 0.9979 - val_loss: 0.0731 - val_acc: 0.9881\n",
      "Epoch 68/70\n",
      "39900/39900 [==============================] - 22s 548us/step - loss: 0.0096 - acc: 0.9973 - val_loss: 0.0538 - val_acc: 0.9890\n",
      "Epoch 69/70\n",
      "39900/39900 [==============================] - 22s 551us/step - loss: 0.0075 - acc: 0.9979 - val_loss: 0.0589 - val_acc: 0.9886\n",
      "Epoch 70/70\n",
      "39900/39900 [==============================] - 22s 548us/step - loss: 0.0052 - acc: 0.9986 - val_loss: 0.0732 - val_acc: 0.9881\n"
     ]
    },
    {
     "data": {
      "text/plain": [
       "<keras.callbacks.History at 0x4c69f7f0>"
      ]
     },
     "execution_count": 19,
     "metadata": {},
     "output_type": "execute_result"
    }
   ],
   "source": [
    "lenet_model = lenet()\n",
    "lenet_model.compile(loss='categorical_crossentropy', optimizer='adam', metrics=['accuracy'])\n",
    "lenet_model.fit(X_train, y_train, batch_size=batch_size, epochs=epochs + 50,verbose=1, validation_data=(X_val, y_val))"
   ]
  },
  {
   "cell_type": "code",
   "execution_count": 20,
   "metadata": {
    "collapsed": true
   },
   "outputs": [],
   "source": [
    "pred = lenet_model.predict(X_test)\n",
    "pred_label = pred.argmax(axis=-1)"
   ]
  },
  {
   "cell_type": "code",
   "execution_count": 21,
   "metadata": {
    "collapsed": true
   },
   "outputs": [],
   "source": [
    "submission['Label'] = pred_label\n",
    "submission.to_csv('submission_lenet_seq.csv', index=False)"
   ]
  },
  {
   "cell_type": "markdown",
   "metadata": {},
   "source": [
    "Use `Functional` API"
   ]
  },
  {
   "cell_type": "code",
   "execution_count": 22,
   "metadata": {
    "collapsed": true
   },
   "outputs": [],
   "source": [
    "def lenet2(input_shape):\n",
    "    '''\n",
    "    Another way to defind a CNN, use Model()\n",
    "    '''\n",
    "    X_input = Input(input_shape)\n",
    "    X = Conv2D(64, (5, 5), activation='relu')(X_input)\n",
    "    X = MaxPooling2D((2, 2))(X)\n",
    "    X = Conv2D(128, (5, 5), activation='relu')(X)\n",
    "    X = MaxPooling2D((2, 2))(X)\n",
    "    X = Flatten()(X)\n",
    "    X = Dense(256, activation='relu')(X)\n",
    "    X = Dropout(.5)(X)\n",
    "    X = Dense(100, activation='relu')(X)\n",
    "    X = Dropout(.5)(X)\n",
    "    X = Dense(10, activation='softmax')(X)\n",
    "    \n",
    "    model = Model(inputs=[X_input], outputs=X)\n",
    "    return model"
   ]
  },
  {
   "cell_type": "code",
   "execution_count": 23,
   "metadata": {},
   "outputs": [
    {
     "name": "stdout",
     "output_type": "stream",
     "text": [
      "Train on 39900 samples, validate on 2100 samples\n",
      "Epoch 1/50\n",
      "39900/39900 [==============================] - 22s 563us/step - loss: 0.5998 - acc: 0.8063 - val_loss: 0.1004 - val_acc: 0.9671\n",
      "Epoch 2/50\n",
      "39900/39900 [==============================] - 22s 549us/step - loss: 0.1642 - acc: 0.9539 - val_loss: 0.0654 - val_acc: 0.9771\n",
      "Epoch 3/50\n",
      "39900/39900 [==============================] - 20s 506us/step - loss: 0.1160 - acc: 0.9688 - val_loss: 0.0546 - val_acc: 0.9790\n",
      "Epoch 4/50\n",
      "39900/39900 [==============================] - 20s 501us/step - loss: 0.0898 - acc: 0.9754 - val_loss: 0.0436 - val_acc: 0.9862\n",
      "Epoch 5/50\n",
      "39900/39900 [==============================] - 22s 554us/step - loss: 0.0745 - acc: 0.9790 - val_loss: 0.0461 - val_acc: 0.9852\n",
      "Epoch 6/50\n",
      "39900/39900 [==============================] - 22s 548us/step - loss: 0.0679 - acc: 0.9818 - val_loss: 0.0473 - val_acc: 0.9843\n",
      "Epoch 7/50\n",
      "39900/39900 [==============================] - 22s 548us/step - loss: 0.0578 - acc: 0.9838 - val_loss: 0.0376 - val_acc: 0.9862\n",
      "Epoch 8/50\n",
      "39900/39900 [==============================] - 22s 548us/step - loss: 0.0543 - acc: 0.9854 - val_loss: 0.0382 - val_acc: 0.9876\n",
      "Epoch 9/50\n",
      "39900/39900 [==============================] - 22s 556us/step - loss: 0.0481 - acc: 0.9860 - val_loss: 0.0393 - val_acc: 0.9895\n",
      "Epoch 10/50\n",
      "39900/39900 [==============================] - 22s 549us/step - loss: 0.0411 - acc: 0.9883 - val_loss: 0.0374 - val_acc: 0.9900\n",
      "Epoch 11/50\n",
      "39900/39900 [==============================] - 22s 549us/step - loss: 0.0401 - acc: 0.9892 - val_loss: 0.0286 - val_acc: 0.9905\n",
      "Epoch 12/50\n",
      "39900/39900 [==============================] - 22s 549us/step - loss: 0.0362 - acc: 0.9904 - val_loss: 0.0327 - val_acc: 0.9876\n",
      "Epoch 13/50\n",
      "39900/39900 [==============================] - 21s 520us/step - loss: 0.0347 - acc: 0.9905 - val_loss: 0.0322 - val_acc: 0.9890\n",
      "Epoch 14/50\n",
      "39900/39900 [==============================] - 20s 494us/step - loss: 0.0333 - acc: 0.9903 - val_loss: 0.0382 - val_acc: 0.9876\n",
      "Epoch 15/50\n",
      "39900/39900 [==============================] - 20s 494us/step - loss: 0.0291 - acc: 0.9920 - val_loss: 0.0300 - val_acc: 0.9929\n",
      "Epoch 16/50\n",
      "39900/39900 [==============================] - 20s 495us/step - loss: 0.0268 - acc: 0.9921 - val_loss: 0.0363 - val_acc: 0.9900\n",
      "Epoch 17/50\n",
      "39900/39900 [==============================] - 22s 541us/step - loss: 0.0257 - acc: 0.9916 - val_loss: 0.0367 - val_acc: 0.9910\n",
      "Epoch 18/50\n",
      "39900/39900 [==============================] - 22s 547us/step - loss: 0.0242 - acc: 0.9934 - val_loss: 0.0378 - val_acc: 0.9900\n",
      "Epoch 19/50\n",
      "39900/39900 [==============================] - 22s 548us/step - loss: 0.0254 - acc: 0.9927 - val_loss: 0.0359 - val_acc: 0.9876\n",
      "Epoch 20/50\n",
      "39900/39900 [==============================] - 22s 547us/step - loss: 0.0250 - acc: 0.9926 - val_loss: 0.0304 - val_acc: 0.9919\n",
      "Epoch 21/50\n",
      "39900/39900 [==============================] - 21s 533us/step - loss: 0.0206 - acc: 0.9943 - val_loss: 0.0444 - val_acc: 0.9886\n",
      "Epoch 22/50\n",
      "39900/39900 [==============================] - 22s 548us/step - loss: 0.0219 - acc: 0.9933 - val_loss: 0.0341 - val_acc: 0.9910\n",
      "Epoch 23/50\n",
      "39900/39900 [==============================] - 22s 547us/step - loss: 0.0198 - acc: 0.9949 - val_loss: 0.0281 - val_acc: 0.9924\n",
      "Epoch 24/50\n",
      "39900/39900 [==============================] - 22s 547us/step - loss: 0.0159 - acc: 0.9953 - val_loss: 0.0359 - val_acc: 0.9924\n",
      "Epoch 25/50\n",
      "39900/39900 [==============================] - 22s 548us/step - loss: 0.0197 - acc: 0.9937 - val_loss: 0.0434 - val_acc: 0.9900\n",
      "Epoch 26/50\n",
      "39900/39900 [==============================] - 22s 548us/step - loss: 0.0152 - acc: 0.9955 - val_loss: 0.0431 - val_acc: 0.9890\n",
      "Epoch 27/50\n",
      "39900/39900 [==============================] - 22s 549us/step - loss: 0.0151 - acc: 0.9957 - val_loss: 0.0394 - val_acc: 0.9900\n",
      "Epoch 28/50\n",
      "39900/39900 [==============================] - 22s 549us/step - loss: 0.0162 - acc: 0.9952 - val_loss: 0.0587 - val_acc: 0.9867\n",
      "Epoch 29/50\n",
      "39900/39900 [==============================] - 22s 547us/step - loss: 0.0183 - acc: 0.9949 - val_loss: 0.0403 - val_acc: 0.9914\n",
      "Epoch 30/50\n",
      "39900/39900 [==============================] - 22s 548us/step - loss: 0.0137 - acc: 0.9963 - val_loss: 0.0537 - val_acc: 0.9886\n",
      "Epoch 31/50\n",
      "39900/39900 [==============================] - 22s 547us/step - loss: 0.0126 - acc: 0.9966 - val_loss: 0.0477 - val_acc: 0.9890\n",
      "Epoch 32/50\n",
      "39900/39900 [==============================] - 22s 549us/step - loss: 0.0127 - acc: 0.9960 - val_loss: 0.0423 - val_acc: 0.9910\n",
      "Epoch 33/50\n",
      "39900/39900 [==============================] - 22s 550us/step - loss: 0.0149 - acc: 0.9957 - val_loss: 0.0461 - val_acc: 0.9900\n",
      "Epoch 34/50\n",
      "39900/39900 [==============================] - 22s 561us/step - loss: 0.0104 - acc: 0.9971 - val_loss: 0.0588 - val_acc: 0.9890\n",
      "Epoch 35/50\n",
      "39900/39900 [==============================] - 22s 560us/step - loss: 0.0165 - acc: 0.9957 - val_loss: 0.0624 - val_acc: 0.9876\n",
      "Epoch 36/50\n",
      "39900/39900 [==============================] - 22s 552us/step - loss: 0.0122 - acc: 0.9963 - val_loss: 0.0426 - val_acc: 0.9905\n",
      "Epoch 37/50\n",
      "39900/39900 [==============================] - 22s 548us/step - loss: 0.0111 - acc: 0.9966 - val_loss: 0.0561 - val_acc: 0.9881\n",
      "Epoch 38/50\n",
      "39900/39900 [==============================] - 22s 550us/step - loss: 0.0128 - acc: 0.9965 - val_loss: 0.0558 - val_acc: 0.9895\n",
      "Epoch 39/50\n",
      "39900/39900 [==============================] - 22s 549us/step - loss: 0.0122 - acc: 0.9961 - val_loss: 0.0517 - val_acc: 0.9905\n",
      "Epoch 40/50\n",
      "39900/39900 [==============================] - 22s 548us/step - loss: 0.0091 - acc: 0.9973 - val_loss: 0.0513 - val_acc: 0.9900\n",
      "Epoch 41/50\n",
      "39900/39900 [==============================] - 22s 547us/step - loss: 0.0106 - acc: 0.9967 - val_loss: 0.0459 - val_acc: 0.9905\n",
      "Epoch 42/50\n",
      "39900/39900 [==============================] - 22s 562us/step - loss: 0.0084 - acc: 0.9975 - val_loss: 0.0530 - val_acc: 0.9886\n",
      "Epoch 43/50\n",
      "39900/39900 [==============================] - 22s 548us/step - loss: 0.0137 - acc: 0.9964 - val_loss: 0.0624 - val_acc: 0.9895\n",
      "Epoch 44/50\n",
      "39900/39900 [==============================] - 22s 549us/step - loss: 0.0113 - acc: 0.9966 - val_loss: 0.0532 - val_acc: 0.9900\n",
      "Epoch 45/50\n",
      "39900/39900 [==============================] - 22s 547us/step - loss: 0.0083 - acc: 0.9977 - val_loss: 0.0526 - val_acc: 0.9900\n",
      "Epoch 46/50\n",
      "39900/39900 [==============================] - 22s 547us/step - loss: 0.0081 - acc: 0.9974 - val_loss: 0.0641 - val_acc: 0.9905\n",
      "Epoch 47/50\n",
      "39900/39900 [==============================] - 22s 550us/step - loss: 0.0081 - acc: 0.9975 - val_loss: 0.0568 - val_acc: 0.9900\n",
      "Epoch 48/50\n",
      "39900/39900 [==============================] - 22s 547us/step - loss: 0.0093 - acc: 0.9974 - val_loss: 0.0702 - val_acc: 0.9890\n",
      "Epoch 49/50\n",
      "39900/39900 [==============================] - 22s 549us/step - loss: 0.0123 - acc: 0.9964 - val_loss: 0.0468 - val_acc: 0.9900\n",
      "Epoch 50/50\n",
      "39900/39900 [==============================] - 22s 548us/step - loss: 0.0090 - acc: 0.9976 - val_loss: 0.0760 - val_acc: 0.9890\n"
     ]
    },
    {
     "data": {
      "text/plain": [
       "<keras.callbacks.History at 0x4d5de978>"
      ]
     },
     "execution_count": 23,
     "metadata": {},
     "output_type": "execute_result"
    }
   ],
   "source": [
    "lenet_model2 = lenet()\n",
    "lenet_model2.compile(loss='categorical_crossentropy', optimizer='adam', metrics=['accuracy'])\n",
    "lenet_model2.fit(X_train, y_train, batch_size=batch_size, epochs=epochs + 30,verbose=1, validation_data=(X_val, y_val))"
   ]
  },
  {
   "cell_type": "code",
   "execution_count": 24,
   "metadata": {
    "collapsed": true
   },
   "outputs": [],
   "source": [
    "pred = lenet_model2.predict(X_test)\n",
    "pred_label = pred.argmax(axis=-1)"
   ]
  },
  {
   "cell_type": "code",
   "execution_count": 25,
   "metadata": {
    "collapsed": true
   },
   "outputs": [],
   "source": [
    "submission['Label'] = pred_label\n",
    "submission.to_csv('submission_lenet_model.csv', index=False)"
   ]
  }
 ],
 "metadata": {
  "kernelspec": {
   "display_name": "Python 3",
   "language": "python",
   "name": "python3"
  },
  "language_info": {
   "codemirror_mode": {
    "name": "ipython",
    "version": 3
   },
   "file_extension": ".py",
   "mimetype": "text/x-python",
   "name": "python",
   "nbconvert_exporter": "python",
   "pygments_lexer": "ipython3",
   "version": "3.6.3"
  }
 },
 "nbformat": 4,
 "nbformat_minor": 2
}
