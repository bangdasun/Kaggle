{
 "cells": [
  {
   "cell_type": "markdown",
   "metadata": {},
   "source": [
    "### Example workflow of XGBoost in python sci-kit learn\n",
    "\n",
    "XGBoost is widely used in Kaggle"
   ]
  },
  {
   "cell_type": "code",
   "execution_count": 1,
   "metadata": {
    "collapsed": true
   },
   "outputs": [],
   "source": [
    "import os\n",
    "import numpy as np\n",
    "import pandas as pd\n",
    "import matplotlib.pyplot as plt\n",
    "%matplotlib inline\n",
    "from sklearn.pipeline import Pipeline  # explain this next time\n",
    "from sklearn.model_selection import train_test_split, GridSearchCV\n",
    "from sklearn.metrics import confusion_matrix\n",
    "from sklearn.preprocessing import StandardScaler, LabelEncoder"
   ]
  },
  {
   "cell_type": "markdown",
   "metadata": {},
   "source": [
    "#### Data preparation"
   ]
  },
  {
   "cell_type": "code",
   "execution_count": 2,
   "metadata": {},
   "outputs": [
    {
     "data": {
      "text/html": [
       "<div>\n",
       "<table border=\"1\" class=\"dataframe\">\n",
       "  <thead>\n",
       "    <tr style=\"text-align: right;\">\n",
       "      <th></th>\n",
       "      <th>PassengerId</th>\n",
       "      <th>Survived</th>\n",
       "      <th>Pclass</th>\n",
       "      <th>Name</th>\n",
       "      <th>Sex</th>\n",
       "      <th>Age</th>\n",
       "      <th>SibSp</th>\n",
       "      <th>Parch</th>\n",
       "      <th>Ticket</th>\n",
       "      <th>Fare</th>\n",
       "      <th>...</th>\n",
       "      <th>num_family</th>\n",
       "      <th>last_name</th>\n",
       "      <th>title</th>\n",
       "      <th>first_name</th>\n",
       "      <th>imputed_age</th>\n",
       "      <th>adult</th>\n",
       "      <th>ticket_letter_length</th>\n",
       "      <th>ticket_digit_length</th>\n",
       "      <th>re_ticket</th>\n",
       "      <th>family_id</th>\n",
       "    </tr>\n",
       "  </thead>\n",
       "  <tbody>\n",
       "    <tr>\n",
       "      <th>0</th>\n",
       "      <td>1</td>\n",
       "      <td>0</td>\n",
       "      <td>3</td>\n",
       "      <td>Braund, Mr. Owen Harris</td>\n",
       "      <td>male</td>\n",
       "      <td>22.0</td>\n",
       "      <td>1</td>\n",
       "      <td>0</td>\n",
       "      <td>A/5 21171</td>\n",
       "      <td>2.110213</td>\n",
       "      <td>...</td>\n",
       "      <td>1</td>\n",
       "      <td>Braund</td>\n",
       "      <td>Mr</td>\n",
       "      <td>Owen Harris</td>\n",
       "      <td>22.0</td>\n",
       "      <td>1</td>\n",
       "      <td>1</td>\n",
       "      <td>6</td>\n",
       "      <td>A6</td>\n",
       "      <td>735</td>\n",
       "    </tr>\n",
       "    <tr>\n",
       "      <th>1</th>\n",
       "      <td>2</td>\n",
       "      <td>1</td>\n",
       "      <td>1</td>\n",
       "      <td>Cumings, Mrs. John Bradley (Florence Briggs Th...</td>\n",
       "      <td>female</td>\n",
       "      <td>38.0</td>\n",
       "      <td>1</td>\n",
       "      <td>0</td>\n",
       "      <td>PC 17599</td>\n",
       "      <td>4.280593</td>\n",
       "      <td>...</td>\n",
       "      <td>1</td>\n",
       "      <td>Cumings</td>\n",
       "      <td>Mrs</td>\n",
       "      <td>John Bradley (Florence Briggs Thayer)</td>\n",
       "      <td>38.0</td>\n",
       "      <td>1</td>\n",
       "      <td>1</td>\n",
       "      <td>5</td>\n",
       "      <td>PC5</td>\n",
       "      <td>690</td>\n",
       "    </tr>\n",
       "    <tr>\n",
       "      <th>2</th>\n",
       "      <td>3</td>\n",
       "      <td>1</td>\n",
       "      <td>3</td>\n",
       "      <td>Heikkinen, Miss. Laina</td>\n",
       "      <td>female</td>\n",
       "      <td>26.0</td>\n",
       "      <td>0</td>\n",
       "      <td>0</td>\n",
       "      <td>STON/O2. 3101282</td>\n",
       "      <td>2.188856</td>\n",
       "      <td>...</td>\n",
       "      <td>0</td>\n",
       "      <td>Heikkinen</td>\n",
       "      <td>Miss</td>\n",
       "      <td>Laina</td>\n",
       "      <td>26.0</td>\n",
       "      <td>1</td>\n",
       "      <td>2</td>\n",
       "      <td>8</td>\n",
       "      <td>STONO8</td>\n",
       "      <td>446</td>\n",
       "    </tr>\n",
       "    <tr>\n",
       "      <th>3</th>\n",
       "      <td>4</td>\n",
       "      <td>1</td>\n",
       "      <td>1</td>\n",
       "      <td>Futrelle, Mrs. Jacques Heath (Lily May Peel)</td>\n",
       "      <td>female</td>\n",
       "      <td>35.0</td>\n",
       "      <td>1</td>\n",
       "      <td>0</td>\n",
       "      <td>113803</td>\n",
       "      <td>3.990834</td>\n",
       "      <td>...</td>\n",
       "      <td>1</td>\n",
       "      <td>Futrelle</td>\n",
       "      <td>Mrs</td>\n",
       "      <td>Jacques Heath (Lily May Peel)</td>\n",
       "      <td>35.0</td>\n",
       "      <td>1</td>\n",
       "      <td>0</td>\n",
       "      <td>6</td>\n",
       "      <td>6</td>\n",
       "      <td>707</td>\n",
       "    </tr>\n",
       "    <tr>\n",
       "      <th>4</th>\n",
       "      <td>5</td>\n",
       "      <td>0</td>\n",
       "      <td>3</td>\n",
       "      <td>Allen, Mr. William Henry</td>\n",
       "      <td>male</td>\n",
       "      <td>35.0</td>\n",
       "      <td>0</td>\n",
       "      <td>0</td>\n",
       "      <td>373450</td>\n",
       "      <td>2.202765</td>\n",
       "      <td>...</td>\n",
       "      <td>0</td>\n",
       "      <td>Allen</td>\n",
       "      <td>Mr</td>\n",
       "      <td>William Henry</td>\n",
       "      <td>35.0</td>\n",
       "      <td>1</td>\n",
       "      <td>0</td>\n",
       "      <td>6</td>\n",
       "      <td>6</td>\n",
       "      <td>758</td>\n",
       "    </tr>\n",
       "  </tbody>\n",
       "</table>\n",
       "<p>5 rows × 23 columns</p>\n",
       "</div>"
      ],
      "text/plain": [
       "   PassengerId  Survived  Pclass  \\\n",
       "0            1         0       3   \n",
       "1            2         1       1   \n",
       "2            3         1       3   \n",
       "3            4         1       1   \n",
       "4            5         0       3   \n",
       "\n",
       "                                                Name     Sex   Age  SibSp  \\\n",
       "0                            Braund, Mr. Owen Harris    male  22.0      1   \n",
       "1  Cumings, Mrs. John Bradley (Florence Briggs Th...  female  38.0      1   \n",
       "2                             Heikkinen, Miss. Laina  female  26.0      0   \n",
       "3       Futrelle, Mrs. Jacques Heath (Lily May Peel)  female  35.0      1   \n",
       "4                           Allen, Mr. William Henry    male  35.0      0   \n",
       "\n",
       "   Parch            Ticket      Fare    ...     num_family  last_name  title  \\\n",
       "0      0         A/5 21171  2.110213    ...              1     Braund     Mr   \n",
       "1      0          PC 17599  4.280593    ...              1    Cumings    Mrs   \n",
       "2      0  STON/O2. 3101282  2.188856    ...              0  Heikkinen   Miss   \n",
       "3      0            113803  3.990834    ...              1   Futrelle    Mrs   \n",
       "4      0            373450  2.202765    ...              0      Allen     Mr   \n",
       "\n",
       "                               first_name imputed_age adult  \\\n",
       "0                             Owen Harris        22.0     1   \n",
       "1   John Bradley (Florence Briggs Thayer)        38.0     1   \n",
       "2                                   Laina        26.0     1   \n",
       "3           Jacques Heath (Lily May Peel)        35.0     1   \n",
       "4                           William Henry        35.0     1   \n",
       "\n",
       "  ticket_letter_length  ticket_digit_length  re_ticket  family_id  \n",
       "0                    1                    6         A6        735  \n",
       "1                    1                    5        PC5        690  \n",
       "2                    2                    8     STONO8        446  \n",
       "3                    0                    6          6        707  \n",
       "4                    0                    6          6        758  \n",
       "\n",
       "[5 rows x 23 columns]"
      ]
     },
     "execution_count": 2,
     "metadata": {},
     "output_type": "execute_result"
    }
   ],
   "source": [
    "os.chdir('C:/Users/Bangda/Desktop/kaggle/titanic')\n",
    "train = pd.read_csv('train_cleaned.csv')\n",
    "test  = pd.read_csv('test_cleaned.csv')\n",
    "train.head()"
   ]
  },
  {
   "cell_type": "code",
   "execution_count": 3,
   "metadata": {
    "collapsed": true
   },
   "outputs": [],
   "source": [
    "all_data = [train, test]\n",
    "for df in all_data:\n",
    "    df['labeled_sex'] = df['Sex'].map({'male': 0, 'female': 1})\n",
    "    df[['Miss', 'Mr', 'Mrs', 'other']] = pd.get_dummies(train['title'], drop_first = True)\n",
    "    df['Master'] = 0"
   ]
  },
  {
   "cell_type": "code",
   "execution_count": 4,
   "metadata": {},
   "outputs": [
    {
     "data": {
      "text/plain": [
       "((891L, 10L), (418L, 10L))"
      ]
     },
     "execution_count": 4,
     "metadata": {},
     "output_type": "execute_result"
    }
   ],
   "source": [
    "predictors = ['Pclass', 'labeled_sex', 'imputed_age', 'Fare', 'num_family', 'Master', 'Miss', 'Mr', 'Mrs', 'other']\n",
    "X_train = train[predictors].values\n",
    "y_train = train['Survived'].values\n",
    "X_test  = test[predictors].values\n",
    "X_train.shape, X_test.shape"
   ]
  },
  {
   "cell_type": "code",
   "execution_count": 5,
   "metadata": {},
   "outputs": [
    {
     "data": {
      "text/plain": [
       "((712L, 10L), (179L, 10L), (418L, 10L))"
      ]
     },
     "execution_count": 5,
     "metadata": {},
     "output_type": "execute_result"
    }
   ],
   "source": [
    "X_train, X_valid, y_train, y_valid = train_test_split(X_train, y_train, test_size = 0.2, random_state = 233)\n",
    "X_train.shape, X_valid.shape, X_test.shape"
   ]
  },
  {
   "cell_type": "markdown",
   "metadata": {},
   "source": [
    "#### Prepare for XGBoost"
   ]
  },
  {
   "cell_type": "code",
   "execution_count": 6,
   "metadata": {},
   "outputs": [
    {
     "name": "stderr",
     "output_type": "stream",
     "text": [
      "C:\\Users\\Bangda\\Anaconda2\\lib\\site-packages\\sklearn\\cross_validation.py:44: DeprecationWarning: This module was deprecated in version 0.18 in favor of the model_selection module into which all the refactored classes and functions are moved. Also note that the interface of the new CV iterators are different from that of this module. This module will be removed in 0.20.\n",
      "  \"This module will be removed in 0.20.\", DeprecationWarning)\n"
     ]
    }
   ],
   "source": [
    "import xgboost as xgb"
   ]
  },
  {
   "cell_type": "code",
   "execution_count": 7,
   "metadata": {
    "collapsed": true
   },
   "outputs": [],
   "source": [
    "dtrain = xgb.DMatrix(X_train, label = y_train)\n",
    "dvalid = xgb.DMatrix(X_valid, label = y_valid)\n",
    "dtest  = xgb.DMatrix(X_test)"
   ]
  },
  {
   "cell_type": "markdown",
   "metadata": {},
   "source": [
    "#### Set parameters"
   ]
  },
  {
   "cell_type": "code",
   "execution_count": 8,
   "metadata": {
    "collapsed": true
   },
   "outputs": [],
   "source": [
    "params = {'n_estimators': 50,\n",
    "          'max_depth': 4,\n",
    "          'min_child_weight': 2,\n",
    "          'gamma': 0.1,\n",
    "          'subsample': 0.7,\n",
    "          'colsample_bytree': 0.7,\n",
    "          'objective': 'binary:logistic',\n",
    "          'eval_metric': 'auc',\n",
    "          'nthread': 4}"
   ]
  },
  {
   "cell_type": "code",
   "execution_count": 9,
   "metadata": {},
   "outputs": [
    {
     "data": {
      "text/plain": [
       "[('n_estimators', 50),\n",
       " ('subsample', 0.7),\n",
       " ('colsample_bytree', 0.7),\n",
       " ('gamma', 0.1),\n",
       " ('eval_metric', 'auc'),\n",
       " ('objective', 'binary:logistic'),\n",
       " ('max_depth', 4),\n",
       " ('min_child_weight', 2),\n",
       " ('nthread', 4)]"
      ]
     },
     "execution_count": 9,
     "metadata": {},
     "output_type": "execute_result"
    }
   ],
   "source": [
    "params_lst = params.items()\n",
    "params_lst"
   ]
  },
  {
   "cell_type": "code",
   "execution_count": 10,
   "metadata": {
    "collapsed": true
   },
   "outputs": [],
   "source": [
    "num_round = 50\n",
    "eval_lst = [(dvalid, 'eval'), (dtrain, 'train')]"
   ]
  },
  {
   "cell_type": "code",
   "execution_count": 11,
   "metadata": {},
   "outputs": [
    {
     "name": "stdout",
     "output_type": "stream",
     "text": [
      "[0]\teval-auc:0.848566\ttrain-auc:0.85393\n",
      "[1]\teval-auc:0.860815\ttrain-auc:0.872265\n",
      "[2]\teval-auc:0.85999\ttrain-auc:0.87363\n",
      "[3]\teval-auc:0.856309\ttrain-auc:0.890012\n",
      "[4]\teval-auc:0.850724\ttrain-auc:0.894726\n",
      "[5]\teval-auc:0.850152\ttrain-auc:0.902999\n",
      "[6]\teval-auc:0.8492\ttrain-auc:0.90488\n",
      "[7]\teval-auc:0.845329\ttrain-auc:0.91298\n",
      "[8]\teval-auc:0.846662\ttrain-auc:0.916468\n",
      "[9]\teval-auc:0.854532\ttrain-auc:0.918273\n",
      "[10]\teval-auc:0.855674\ttrain-auc:0.920581\n",
      "[11]\teval-auc:0.858213\ttrain-auc:0.921871\n",
      "[12]\teval-auc:0.851993\ttrain-auc:0.924999\n",
      "[13]\teval-auc:0.856118\ttrain-auc:0.927464\n",
      "[14]\teval-auc:0.855547\ttrain-auc:0.930089\n",
      "[15]\teval-auc:0.860244\ttrain-auc:0.932186\n",
      "[16]\teval-auc:0.860371\ttrain-auc:0.933661\n",
      "[17]\teval-auc:0.854087\ttrain-auc:0.935302\n",
      "[18]\teval-auc:0.855103\ttrain-auc:0.93739\n",
      "[19]\teval-auc:0.857578\ttrain-auc:0.939588\n",
      "[20]\teval-auc:0.854278\ttrain-auc:0.94158\n",
      "[21]\teval-auc:0.854532\ttrain-auc:0.942831\n",
      "[22]\teval-auc:0.856182\ttrain-auc:0.942899\n",
      "[23]\teval-auc:0.855801\ttrain-auc:0.944247\n",
      "[24]\teval-auc:0.854659\ttrain-auc:0.944505\n",
      "[25]\teval-auc:0.855738\ttrain-auc:0.946513\n",
      "[26]\teval-auc:0.861259\ttrain-auc:0.948373\n",
      "[27]\teval-auc:0.861386\ttrain-auc:0.949405\n",
      "[28]\teval-auc:0.860498\ttrain-auc:0.949747\n",
      "[29]\teval-auc:0.854976\ttrain-auc:0.952766\n",
      "[30]\teval-auc:0.853833\ttrain-auc:0.95244\n",
      "[31]\teval-auc:0.853262\ttrain-auc:0.953218\n",
      "[32]\teval-auc:0.856436\ttrain-auc:0.95321\n",
      "[33]\teval-auc:0.857197\ttrain-auc:0.95403\n",
      "[34]\teval-auc:0.854532\ttrain-auc:0.955023\n",
      "[35]\teval-auc:0.855801\ttrain-auc:0.954884\n",
      "[36]\teval-auc:0.853897\ttrain-auc:0.955805\n",
      "[37]\teval-auc:0.853516\ttrain-auc:0.955949\n",
      "[38]\teval-auc:0.855674\ttrain-auc:0.957767\n",
      "[39]\teval-auc:0.858847\ttrain-auc:0.958604\n",
      "[40]\teval-auc:0.860244\ttrain-auc:0.958185\n",
      "[41]\teval-auc:0.861132\ttrain-auc:0.958012\n",
      "[42]\teval-auc:0.862909\ttrain-auc:0.958976\n",
      "[43]\teval-auc:0.864433\ttrain-auc:0.95975\n",
      "[44]\teval-auc:0.862529\ttrain-auc:0.960333\n",
      "[45]\teval-auc:0.860117\ttrain-auc:0.960764\n",
      "[46]\teval-auc:0.858594\ttrain-auc:0.960806\n",
      "[47]\teval-auc:0.85834\ttrain-auc:0.9618\n",
      "[48]\teval-auc:0.860498\ttrain-auc:0.961343\n",
      "[49]\teval-auc:0.859228\ttrain-auc:0.961377\n"
     ]
    }
   ],
   "source": [
    "bst_default = xgb.train(params_lst, dtrain, num_round, eval_lst)"
   ]
  },
  {
   "cell_type": "code",
   "execution_count": 12,
   "metadata": {},
   "outputs": [
    {
     "data": {
      "text/plain": [
       "array([[93,  8],\n",
       "       [18, 60]])"
      ]
     },
     "execution_count": 12,
     "metadata": {},
     "output_type": "execute_result"
    }
   ],
   "source": [
    "bst_pred_valid_prob = bst_default.predict(dvalid)\n",
    "bst_pred_valid = [1. if proba > .5 else 0 for proba in bst_pred_valid_prob]\n",
    "confusion_matrix(y_valid, bst_pred_valid)"
   ]
  },
  {
   "cell_type": "markdown",
   "metadata": {},
   "source": [
    "#### Alternative way (sklearn interface)"
   ]
  },
  {
   "cell_type": "code",
   "execution_count": 13,
   "metadata": {},
   "outputs": [
    {
     "data": {
      "text/plain": [
       "XGBClassifier(base_score=0.5, colsample_bylevel=1, colsample_bytree=0.7,\n",
       "       gamma=0.1, learning_rate=0.1, max_delta_step=0, max_depth=4,\n",
       "       min_child_weight=2, missing=None, n_estimators=50, nthread=4,\n",
       "       objective='binary:logistic', reg_alpha=0, reg_lambda=1,\n",
       "       scale_pos_weight=1, seed=0, silent=True, subsample=0.7)"
      ]
     },
     "execution_count": 13,
     "metadata": {},
     "output_type": "execute_result"
    }
   ],
   "source": [
    "xgb_default = xgb.XGBClassifier(n_estimators = 50,\n",
    "                                max_depth = 4, \n",
    "                                min_child_weight = 2,\n",
    "                                gamma = 0.1,\n",
    "                                subsample = 0.7,\n",
    "                                colsample_bytree = 0.7, \n",
    "                                objective = 'binary:logistic',\n",
    "                                nthread = 4)\n",
    "xgb_default.fit(X_train, y_train)"
   ]
  },
  {
   "cell_type": "code",
   "execution_count": 14,
   "metadata": {},
   "outputs": [
    {
     "data": {
      "text/plain": [
       "array([[93,  8],\n",
       "       [18, 60]])"
      ]
     },
     "execution_count": 14,
     "metadata": {},
     "output_type": "execute_result"
    }
   ],
   "source": [
    "bst_pred_valid = xgb_default.predict(X_valid)\n",
    "confusion_matrix(y_valid, bst_pred_valid)"
   ]
  },
  {
   "cell_type": "markdown",
   "metadata": {},
   "source": [
    "#### Parameters tuning"
   ]
  },
  {
   "cell_type": "code",
   "execution_count": 15,
   "metadata": {},
   "outputs": [],
   "source": [
    "xgb_tuned = xgb.XGBClassifier()\n",
    "cv_params = {'n_estimators': [50, 100],\n",
    "             'max_depth': [4, 5],\n",
    "             'min_child_weight': [2],\n",
    "             'gamma': [0.01, 0.015, 0.02],\n",
    "             'subsample': [0.6, 0.65, 0.7],\n",
    "             'colsample_bytree': [0.7],\n",
    "             'objective': ['binary:logistic'],\n",
    "             'nthread': [4]}"
   ]
  },
  {
   "cell_type": "code",
   "execution_count": 16,
   "metadata": {},
   "outputs": [],
   "source": [
    "xgb_cv = GridSearchCV(xgb_tuned, cv_params, cv = 3)"
   ]
  },
  {
   "cell_type": "code",
   "execution_count": 17,
   "metadata": {},
   "outputs": [
    {
     "data": {
      "text/plain": [
       "GridSearchCV(cv=3, error_score='raise',\n",
       "       estimator=XGBClassifier(base_score=0.5, colsample_bylevel=1, colsample_bytree=1,\n",
       "       gamma=0, learning_rate=0.1, max_delta_step=0, max_depth=3,\n",
       "       min_child_weight=1, missing=None, n_estimators=100, nthread=-1,\n",
       "       objective='binary:logistic', reg_alpha=0, reg_lambda=1,\n",
       "       scale_pos_weight=1, seed=0, silent=True, subsample=1),\n",
       "       fit_params={}, iid=True, n_jobs=1,\n",
       "       param_grid={'n_estimators': [50, 100], 'subsample': [0.6, 0.65, 0.7], 'colsample_bytree': [0.7], 'gamma': [0.01, 0.015, 0.02], 'objective': ['binary:logistic'], 'max_depth': [4, 5], 'min_child_weight': [2], 'nthread': [4]},\n",
       "       pre_dispatch='2*n_jobs', refit=True, return_train_score=True,\n",
       "       scoring=None, verbose=0)"
      ]
     },
     "execution_count": 17,
     "metadata": {},
     "output_type": "execute_result"
    }
   ],
   "source": [
    "xgb_cv.fit(X_train, y_train)"
   ]
  },
  {
   "cell_type": "code",
   "execution_count": 18,
   "metadata": {},
   "outputs": [
    {
     "data": {
      "text/plain": [
       "{'colsample_bytree': 0.7,\n",
       " 'gamma': 0.015,\n",
       " 'max_depth': 5,\n",
       " 'min_child_weight': 2,\n",
       " 'n_estimators': 50,\n",
       " 'nthread': 4,\n",
       " 'objective': 'binary:logistic',\n",
       " 'subsample': 0.65}"
      ]
     },
     "execution_count": 18,
     "metadata": {},
     "output_type": "execute_result"
    }
   ],
   "source": [
    "xgb_cv.best_params_"
   ]
  },
  {
   "cell_type": "code",
   "execution_count": 19,
   "metadata": {},
   "outputs": [
    {
     "data": {
      "text/plain": [
       "array([[91, 10],\n",
       "       [18, 60]])"
      ]
     },
     "execution_count": 19,
     "metadata": {},
     "output_type": "execute_result"
    }
   ],
   "source": [
    "xgb_cv_pred_valid = xgb_cv.predict(X_valid)\n",
    "confusion_matrix(y_valid, xgb_cv_pred_valid)"
   ]
  }
 ],
 "metadata": {
  "kernelspec": {
   "display_name": "Python [default]",
   "language": "python",
   "name": "python2"
  },
  "language_info": {
   "codemirror_mode": {
    "name": "ipython",
    "version": 2
   },
   "file_extension": ".py",
   "mimetype": "text/x-python",
   "name": "python",
   "nbconvert_exporter": "python",
   "pygments_lexer": "ipython2",
   "version": "2.7.12"
  }
 },
 "nbformat": 4,
 "nbformat_minor": 2
}
